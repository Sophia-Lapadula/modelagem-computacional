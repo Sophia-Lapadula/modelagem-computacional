{
  "nbformat": 4,
  "nbformat_minor": 0,
  "metadata": {
    "colab": {
      "name": "projeto_velocidade.ipynb",
      "provenance": [],
      "authorship_tag": "ABX9TyPXCwXxL8Z5/J5S6nmRMEXA",
      "include_colab_link": true
    },
    "kernelspec": {
      "name": "python3",
      "display_name": "Python 3"
    },
    "language_info": {
      "name": "python"
    }
  },
  "cells": [
    {
      "cell_type": "markdown",
      "metadata": {
        "id": "view-in-github",
        "colab_type": "text"
      },
      "source": [
        "<a href=\"https://colab.research.google.com/github/Sophia-Lapadula/Sophia-Lapadula/blob/main/projeto_velocidade.ipynb\" target=\"_parent\"><img src=\"https://colab.research.google.com/assets/colab-badge.svg\" alt=\"Open In Colab\"/></a>"
      ]
    },
    {
      "cell_type": "code",
      "metadata": {
        "id": "V_vLWnmIu6mx"
      },
      "source": [
        "#O que acontece com a  velocidade do corpo ao se aplicar uma força f sobre este?\n",
        "#Considere:\n",
        "#-aussência de atritto\n",
        "#-força constante\n",
        "#-passo de tempo DT=1\n",
        "#V(0)=0,S(0)=0\n",
        "#Calcular a nova posição a cada instante do tempo e no deslocamento final\n"
      ],
      "execution_count": 5,
      "outputs": []
    },
    {
      "cell_type": "code",
      "metadata": {
        "id": "4cuwDQQDNd4k"
      },
      "source": [
        "max_time=1"
      ],
      "execution_count": 26,
      "outputs": []
    },
    {
      "cell_type": "code",
      "metadata": {
        "id": "Uxnuo30yNgZ6"
      },
      "source": [
        "time_list=list(range(max_time+1))"
      ],
      "execution_count": 27,
      "outputs": []
    },
    {
      "cell_type": "code",
      "metadata": {
        "id": "cySvz4gENliU"
      },
      "source": [
        "def speed(so,vo,a):\n",
        "    space_list=[]\n",
        "    i=0\n",
        "    for i in time_list:\n",
        "        space_now=so+(vo*i)+(a*(i^2)/2)\n",
        "        space_list.append(space_now)\n",
        "    return space_list"
      ],
      "execution_count": 24,
      "outputs": []
    },
    {
      "cell_type": "code",
      "metadata": {
        "colab": {
          "base_uri": "https://localhost:8080/",
          "height": 282
        },
        "id": "I3JJtnuOxIcc",
        "outputId": "2bb4029d-8385-46e5-979d-4a546e4d5e61"
      },
      "source": [
        "#plotando o gráfico\n",
        "import matplotlib.pyplot as plt\n",
        "plt.plot(time_list,speed(0,0,1))\n"
      ],
      "execution_count": 29,
      "outputs": [
        {
          "output_type": "execute_result",
          "data": {
            "text/plain": [
              "[<matplotlib.lines.Line2D at 0x7fc82b2f4dd0>]"
            ]
          },
          "metadata": {
            "tags": []
          },
          "execution_count": 29
        },
        {
          "output_type": "display_data",
          "data": {
            "image/png": "[encoded data removed]",
            "text/plain": [
              "<Figure size 432x288 with 1 Axes>"
            ]
          },
          "metadata": {
            "tags": [],
            "needs_background": "light"
          }
        }
      ]
    }
  ]
}